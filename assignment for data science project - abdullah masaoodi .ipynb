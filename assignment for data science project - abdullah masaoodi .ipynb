{
 "cells": [
  {
   "cell_type": "markdown",
   "id": "dfa616f8",
   "metadata": {},
   "source": [
    "#### 1- Import libraries"
   ]
  },
  {
   "cell_type": "code",
   "execution_count": 220,
   "id": "25a33d61",
   "metadata": {},
   "outputs": [],
   "source": [
    "from urllib.request import urlopen\n",
    "import pandas as pd\n",
    "import json\n",
    "import secret\n",
    "import yfinance\n",
    "import plotly.graph_objects as go\n",
    "from plotly.subplots import make_subplots"
   ]
  },
  {
   "cell_type": "code",
   "execution_count": 177,
   "id": "49d0ba67",
   "metadata": {},
   "outputs": [],
   "source": []
  },
  {
   "cell_type": "markdown",
   "id": "e4c294de",
   "metadata": {},
   "source": [
    "# Questions\n",
    "\n",
    "<br>Question 1 - Extracting Tesla Stock Data Using yfinance - 2 Points\n",
    "<br>Question 2 - Extracting Tesla Revenue Data Using Webscraping - 1 Points\n",
    "<br>Question 3 - Extracting GameStop Stock Data Using yfinance - 2 Points\n",
    "<br>Question 4 - Extracting GameStop Revenue Data Using Webscraping - 1 Points\n",
    "<br>Question 5 - Tesla Stock and Revenue Dashboard - 2 Points\n",
    "<br>Question 6 - GameStop Stock and Revenue Dashboard- 2 Points\n",
    "<br>Question 7 - Sharing your Assignment Notebook - 2 Points"
   ]
  },
  {
   "cell_type": "markdown",
   "id": "997def6d",
   "metadata": {},
   "source": [
    "# Start"
   ]
  },
  {
   "cell_type": "markdown",
   "id": "43db8c18",
   "metadata": {},
   "source": [
    "*Question 1 - Extracting Tesla Stock Data Using yfinance*\n",
    "<br>answer 1 -  **because I faced a problem with yfinance, this error came 'No data found, symbol may be delisted' , I could not find any solution even in google, so I get another alternative which is: Extracting Tesla stock price information with <code>https://financialmodelingprep.com/api</code>**"
   ]
  },
  {
   "cell_type": "code",
   "execution_count": 327,
   "id": "9b7a1d5e",
   "metadata": {
    "scrolled": true
   },
   "outputs": [],
   "source": [
    "url_TSLA = 'https://financialmodelingprep.com/api/v3/technical_indicator/1day/TSLA?type=standardDeviation&period=180&apikey=KV4GpWxMpUrBiae5n2KeuKgi6C8bEdNA'\n",
    "response_TSLA = urlopen(url_TSLA)\n",
    "raw_data_TSLA = response_TSLA.read()\n",
    "data_TSLA = json.loads(raw_data_TSLA)\n",
    "\n",
    "df_TSLA = pd.DataFrame(data_TSLA)"
   ]
  },
  {
   "cell_type": "code",
   "execution_count": 329,
   "id": "35293d4e",
   "metadata": {},
   "outputs": [
    {
     "data": {
      "text/html": [
       "<div>\n",
       "<style scoped>\n",
       "    .dataframe tbody tr th:only-of-type {\n",
       "        vertical-align: middle;\n",
       "    }\n",
       "\n",
       "    .dataframe tbody tr th {\n",
       "        vertical-align: top;\n",
       "    }\n",
       "\n",
       "    .dataframe thead th {\n",
       "        text-align: right;\n",
       "    }\n",
       "</style>\n",
       "<table border=\"1\" class=\"dataframe\">\n",
       "  <thead>\n",
       "    <tr style=\"text-align: right;\">\n",
       "      <th></th>\n",
       "      <th>date</th>\n",
       "      <th>open</th>\n",
       "      <th>high</th>\n",
       "      <th>low</th>\n",
       "      <th>close</th>\n",
       "      <th>volume</th>\n",
       "      <th>standardDeviation</th>\n",
       "    </tr>\n",
       "  </thead>\n",
       "  <tbody>\n",
       "    <tr>\n",
       "      <th>0</th>\n",
       "      <td>2023-11-13 00:00:00</td>\n",
       "      <td>215.60</td>\n",
       "      <td>225.4000</td>\n",
       "      <td>211.6101</td>\n",
       "      <td>223.96</td>\n",
       "      <td>128737321</td>\n",
       "      <td>37.397593</td>\n",
       "    </tr>\n",
       "    <tr>\n",
       "      <th>1</th>\n",
       "      <td>2023-11-10 00:00:00</td>\n",
       "      <td>210.03</td>\n",
       "      <td>215.3800</td>\n",
       "      <td>205.6900</td>\n",
       "      <td>214.65</td>\n",
       "      <td>131295153</td>\n",
       "      <td>37.416988</td>\n",
       "    </tr>\n",
       "    <tr>\n",
       "      <th>2</th>\n",
       "      <td>2023-11-09 00:00:00</td>\n",
       "      <td>219.75</td>\n",
       "      <td>220.8000</td>\n",
       "      <td>206.6800</td>\n",
       "      <td>209.98</td>\n",
       "      <td>142065154</td>\n",
       "      <td>37.464271</td>\n",
       "    </tr>\n",
       "    <tr>\n",
       "      <th>3</th>\n",
       "      <td>2023-11-08 00:00:00</td>\n",
       "      <td>223.15</td>\n",
       "      <td>224.1500</td>\n",
       "      <td>217.6400</td>\n",
       "      <td>222.11</td>\n",
       "      <td>106384841</td>\n",
       "      <td>37.484911</td>\n",
       "    </tr>\n",
       "    <tr>\n",
       "      <th>4</th>\n",
       "      <td>2023-11-07 00:00:00</td>\n",
       "      <td>219.98</td>\n",
       "      <td>223.1200</td>\n",
       "      <td>215.7200</td>\n",
       "      <td>222.18</td>\n",
       "      <td>116897380</td>\n",
       "      <td>37.522874</td>\n",
       "    </tr>\n",
       "    <tr>\n",
       "      <th>5</th>\n",
       "      <td>2023-11-06 00:00:00</td>\n",
       "      <td>223.98</td>\n",
       "      <td>226.3200</td>\n",
       "      <td>215.0000</td>\n",
       "      <td>219.27</td>\n",
       "      <td>116835820</td>\n",
       "      <td>37.572952</td>\n",
       "    </tr>\n",
       "    <tr>\n",
       "      <th>6</th>\n",
       "      <td>2023-11-03 00:00:00</td>\n",
       "      <td>221.15</td>\n",
       "      <td>226.3701</td>\n",
       "      <td>218.4000</td>\n",
       "      <td>219.96</td>\n",
       "      <td>119526048</td>\n",
       "      <td>37.588389</td>\n",
       "    </tr>\n",
       "    <tr>\n",
       "      <th>7</th>\n",
       "      <td>2023-11-02 00:00:00</td>\n",
       "      <td>212.97</td>\n",
       "      <td>219.2000</td>\n",
       "      <td>211.4500</td>\n",
       "      <td>218.51</td>\n",
       "      <td>125959421</td>\n",
       "      <td>37.620787</td>\n",
       "    </tr>\n",
       "    <tr>\n",
       "      <th>8</th>\n",
       "      <td>2023-11-01 00:00:00</td>\n",
       "      <td>204.04</td>\n",
       "      <td>205.9900</td>\n",
       "      <td>197.8500</td>\n",
       "      <td>205.66</td>\n",
       "      <td>121661656</td>\n",
       "      <td>37.625075</td>\n",
       "    </tr>\n",
       "    <tr>\n",
       "      <th>9</th>\n",
       "      <td>2023-10-31 00:00:00</td>\n",
       "      <td>196.12</td>\n",
       "      <td>202.8000</td>\n",
       "      <td>194.0700</td>\n",
       "      <td>200.84</td>\n",
       "      <td>118053273</td>\n",
       "      <td>37.616742</td>\n",
       "    </tr>\n",
       "  </tbody>\n",
       "</table>\n",
       "</div>"
      ],
      "text/plain": [
       "                  date    open      high       low   close     volume  \\\n",
       "0  2023-11-13 00:00:00  215.60  225.4000  211.6101  223.96  128737321   \n",
       "1  2023-11-10 00:00:00  210.03  215.3800  205.6900  214.65  131295153   \n",
       "2  2023-11-09 00:00:00  219.75  220.8000  206.6800  209.98  142065154   \n",
       "3  2023-11-08 00:00:00  223.15  224.1500  217.6400  222.11  106384841   \n",
       "4  2023-11-07 00:00:00  219.98  223.1200  215.7200  222.18  116897380   \n",
       "5  2023-11-06 00:00:00  223.98  226.3200  215.0000  219.27  116835820   \n",
       "6  2023-11-03 00:00:00  221.15  226.3701  218.4000  219.96  119526048   \n",
       "7  2023-11-02 00:00:00  212.97  219.2000  211.4500  218.51  125959421   \n",
       "8  2023-11-01 00:00:00  204.04  205.9900  197.8500  205.66  121661656   \n",
       "9  2023-10-31 00:00:00  196.12  202.8000  194.0700  200.84  118053273   \n",
       "\n",
       "   standardDeviation  \n",
       "0          37.397593  \n",
       "1          37.416988  \n",
       "2          37.464271  \n",
       "3          37.484911  \n",
       "4          37.522874  \n",
       "5          37.572952  \n",
       "6          37.588389  \n",
       "7          37.620787  \n",
       "8          37.625075  \n",
       "9          37.616742  "
      ]
     },
     "execution_count": 329,
     "metadata": {},
     "output_type": "execute_result"
    }
   ],
   "source": [
    "df_TSLA.head(10)"
   ]
  },
  {
   "cell_type": "raw",
   "id": "37dec586",
   "metadata": {},
   "source": []
  },
  {
   "cell_type": "markdown",
   "id": "6096231e",
   "metadata": {},
   "source": [
    "*Question 2 - Extracting Tesla Revenue Data Using Webscraping*\n",
    "<br>answer 2-  **Done with <code>https://companiesmarketcap.com</code>**"
   ]
  },
  {
   "cell_type": "code",
   "execution_count": 216,
   "id": "375ff584",
   "metadata": {},
   "outputs": [
    {
     "data": {
      "text/plain": [
       "[<td>2023 (TTM)</td>,\n",
       " <td>$95.92 B</td>,\n",
       " <td class=\"percentage-green\">17.75%</td>,\n",
       " <td>2022</td>,\n",
       " <td>$81.46 B</td>,\n",
       " <td class=\"percentage-green\">51.35%</td>,\n",
       " <td>2021</td>,\n",
       " <td>$53.82 B</td>,\n",
       " <td class=\"percentage-green\">70.67%</td>,\n",
       " <td>2020</td>,\n",
       " <td>$31.53 B</td>,\n",
       " <td class=\"percentage-green\">28.31%</td>,\n",
       " <td>2019</td>,\n",
       " <td>$24.57 B</td>,\n",
       " <td class=\"percentage-green\">14.52%</td>,\n",
       " <td>2018</td>,\n",
       " <td>$21.46 B</td>,\n",
       " <td class=\"percentage-green\">82.51%</td>,\n",
       " <td>2017</td>,\n",
       " <td>$11.75 B</td>,\n",
       " <td class=\"percentage-green\">67.98%</td>,\n",
       " <td>2016</td>,\n",
       " <td>$7.00 B</td>,\n",
       " <td class=\"percentage-green\">73.01%</td>,\n",
       " <td>2015</td>,\n",
       " <td>$4.04 B</td>,\n",
       " <td class=\"percentage-green\">26.5%</td>,\n",
       " <td>2014</td>,\n",
       " <td>$3.19 B</td>,\n",
       " <td class=\"percentage-green\">58.85%</td>,\n",
       " <td>2013</td>,\n",
       " <td>$2.01 B</td>,\n",
       " <td class=\"percentage-green\">387.23%</td>,\n",
       " <td>2012</td>,\n",
       " <td>$0.41 B</td>,\n",
       " <td class=\"percentage-green\">102.34%</td>,\n",
       " <td>2011</td>,\n",
       " <td>$0.20 B</td>,\n",
       " <td class=\"percentage-green\">74.95%</td>,\n",
       " <td>2010</td>,\n",
       " <td>$0.11 B</td>,\n",
       " <td class=\"percentage-green\">4.29%</td>,\n",
       " <td>2009</td>,\n",
       " <td>$0.11 B</td>,\n",
       " <td></td>,\n",
       " <td class=\"name-td\"><a href=\"/apple/revenue/\"><div class=\"float-left pt-1\"><img alt=\"Apple logo\" class=\"company-logo\" loading=\"lazy\" src=\"/img/company-logos/64/AAPL.png\"/></div><div class=\"name-div\"><div class=\"company-name\">Apple</div><div class=\"company-code\"><span class=\"rank d-none\"></span>AAPL</div></div></a></td>,\n",
       " <td>$383.28 B</td>,\n",
       " <td><span class=\"percentage-green\"> 299.57%</span></td>,\n",
       " <td>🇺🇸 <span class=\"responsive-hidden\">USA</span></td>,\n",
       " <td class=\"name-td\"><a href=\"/nio/revenue/\"><div class=\"float-left pt-1\"><img alt=\"NIO logo\" class=\"company-logo\" loading=\"lazy\" src=\"/img/company-logos/64/NIO.png\"/></div><div class=\"name-div\"><div class=\"company-name\">NIO</div><div class=\"company-code\"><span class=\"rank d-none\"></span>NIO</div></div></a></td>,\n",
       " <td>$6.91 B</td>,\n",
       " <td><span class=\"percentage-red\">-92.79%</span></td>,\n",
       " <td>🇨🇳 <span class=\"responsive-hidden\">China</span></td>,\n",
       " <td class=\"name-td\"><a href=\"/lucid-motors/revenue/\"><div class=\"float-left pt-1\"><img alt=\"Lucid Motors logo\" class=\"company-logo\" loading=\"lazy\" src=\"/img/company-logos/64/LCID.png\"/></div><div class=\"name-div\"><div class=\"company-name\">Lucid Motors</div><div class=\"company-code\"><span class=\"rank d-none\"></span>LCID</div></div></a></td>,\n",
       " <td>$0.75 B</td>,\n",
       " <td><span class=\"percentage-red\">-99.21%</span></td>,\n",
       " <td>🇺🇸 <span class=\"responsive-hidden\">USA</span></td>,\n",
       " <td class=\"name-td\"><a href=\"/rivian/revenue/\"><div class=\"float-left pt-1\"><img alt=\"Rivian logo\" class=\"company-logo\" loading=\"lazy\" src=\"/img/company-logos/64/RIVN.png\"/></div><div class=\"name-div\"><div class=\"company-name\">Rivian</div><div class=\"company-code\"><span class=\"rank d-none\"></span>RIVN</div></div></a></td>,\n",
       " <td>$2.98 B</td>,\n",
       " <td><span class=\"percentage-red\">-96.89%</span></td>,\n",
       " <td>🇺🇸 <span class=\"responsive-hidden\">USA</span></td>]"
      ]
     },
     "execution_count": 216,
     "metadata": {},
     "output_type": "execute_result"
    }
   ],
   "source": [
    "Tesla_Revenue_Data_website = 'https://companiesmarketcap.com/tesla/revenue/'\n",
    "\n",
    "page_imported_Tesla = requests.get(Tesla_Revenue_Data_website)\n",
    "src_Tesla = page_imported_Tesla.content\n",
    "soup_Tesla = BeautifulSoup(src_Tesla, \"lxml\")\n",
    "\n",
    "Tesla_Revenue_Data_table = soup_Tesla.find_all(\"td\")\n",
    "Tesla_Revenue_Data_table"
   ]
  },
  {
   "cell_type": "raw",
   "id": "80e7ed4c",
   "metadata": {},
   "source": []
  },
  {
   "cell_type": "markdown",
   "id": "c8339e1a",
   "metadata": {},
   "source": [
    "*Question 3 - Extracting GameStop Stock Data Using yfinance - 2 Points*\n",
    "<br>answer 3 -  **because I faced a problem with yfinance, this error came 'No data found, symbol may be delisted' , I could not find any solution even in google, so I get another alternative which is: Extracting GameStop stock price information with <code>financialmodelingprep.com/api</code>**"
   ]
  },
  {
   "cell_type": "code",
   "execution_count": 193,
   "id": "0c05a955",
   "metadata": {
    "scrolled": true
   },
   "outputs": [],
   "source": [
    "url_GME = 'https://financialmodelingprep.com/api/v3/technical_indicator/1day/GME?type=standardDeviation&period=180&apikey=KV4GpWxMpUrBiae5n2KeuKgi6C8bEdNA'\n",
    "response_GME = urlopen(url_GME)\n",
    "raw_data_GME = response_GME.read()\n",
    "data_GME = json.loads(raw_data_GME)\n",
    "\n",
    "df_GME = pd.DataFrame(data_GME)"
   ]
  },
  {
   "cell_type": "code",
   "execution_count": 218,
   "id": "504662a9",
   "metadata": {},
   "outputs": [
    {
     "data": {
      "text/html": [
       "<div>\n",
       "<style scoped>\n",
       "    .dataframe tbody tr th:only-of-type {\n",
       "        vertical-align: middle;\n",
       "    }\n",
       "\n",
       "    .dataframe tbody tr th {\n",
       "        vertical-align: top;\n",
       "    }\n",
       "\n",
       "    .dataframe thead th {\n",
       "        text-align: right;\n",
       "    }\n",
       "</style>\n",
       "<table border=\"1\" class=\"dataframe\">\n",
       "  <thead>\n",
       "    <tr style=\"text-align: right;\">\n",
       "      <th></th>\n",
       "      <th>date</th>\n",
       "      <th>open</th>\n",
       "      <th>high</th>\n",
       "      <th>low</th>\n",
       "      <th>close</th>\n",
       "      <th>volume</th>\n",
       "      <th>standardDeviation</th>\n",
       "    </tr>\n",
       "  </thead>\n",
       "  <tbody>\n",
       "    <tr>\n",
       "      <th>0</th>\n",
       "      <td>2023-11-10 00:00:00</td>\n",
       "      <td>12.81</td>\n",
       "      <td>12.9700</td>\n",
       "      <td>12.350</td>\n",
       "      <td>12.54</td>\n",
       "      <td>3875692</td>\n",
       "      <td>3.557657</td>\n",
       "    </tr>\n",
       "    <tr>\n",
       "      <th>1</th>\n",
       "      <td>2023-11-09 00:00:00</td>\n",
       "      <td>13.25</td>\n",
       "      <td>13.3229</td>\n",
       "      <td>12.700</td>\n",
       "      <td>12.70</td>\n",
       "      <td>2750115</td>\n",
       "      <td>3.516784</td>\n",
       "    </tr>\n",
       "    <tr>\n",
       "      <th>2</th>\n",
       "      <td>2023-11-08 00:00:00</td>\n",
       "      <td>13.51</td>\n",
       "      <td>13.7600</td>\n",
       "      <td>13.280</td>\n",
       "      <td>13.28</td>\n",
       "      <td>1705621</td>\n",
       "      <td>3.476857</td>\n",
       "    </tr>\n",
       "    <tr>\n",
       "      <th>3</th>\n",
       "      <td>2023-11-07 00:00:00</td>\n",
       "      <td>13.47</td>\n",
       "      <td>13.7900</td>\n",
       "      <td>13.230</td>\n",
       "      <td>13.64</td>\n",
       "      <td>2354364</td>\n",
       "      <td>3.442694</td>\n",
       "    </tr>\n",
       "    <tr>\n",
       "      <th>4</th>\n",
       "      <td>2023-11-06 00:00:00</td>\n",
       "      <td>13.99</td>\n",
       "      <td>14.0450</td>\n",
       "      <td>13.485</td>\n",
       "      <td>13.53</td>\n",
       "      <td>2164399</td>\n",
       "      <td>3.411648</td>\n",
       "    </tr>\n",
       "  </tbody>\n",
       "</table>\n",
       "</div>"
      ],
      "text/plain": [
       "                  date   open     high     low  close   volume  \\\n",
       "0  2023-11-10 00:00:00  12.81  12.9700  12.350  12.54  3875692   \n",
       "1  2023-11-09 00:00:00  13.25  13.3229  12.700  12.70  2750115   \n",
       "2  2023-11-08 00:00:00  13.51  13.7600  13.280  13.28  1705621   \n",
       "3  2023-11-07 00:00:00  13.47  13.7900  13.230  13.64  2354364   \n",
       "4  2023-11-06 00:00:00  13.99  14.0450  13.485  13.53  2164399   \n",
       "\n",
       "   standardDeviation  \n",
       "0           3.557657  \n",
       "1           3.516784  \n",
       "2           3.476857  \n",
       "3           3.442694  \n",
       "4           3.411648  "
      ]
     },
     "execution_count": 218,
     "metadata": {},
     "output_type": "execute_result"
    }
   ],
   "source": [
    "df_GME.head(5)"
   ]
  },
  {
   "cell_type": "raw",
   "id": "294138fc",
   "metadata": {},
   "source": []
  },
  {
   "cell_type": "markdown",
   "id": "2fbb3cd6",
   "metadata": {},
   "source": [
    "*Question 4 - Extracting GameStop Revenue Data Using Webscraping*\n",
    "<br>answer 4 -  **Done with <code>https://companiesmarketcap.com</code>**"
   ]
  },
  {
   "cell_type": "code",
   "execution_count": 217,
   "id": "0c2eb7b4",
   "metadata": {},
   "outputs": [
    {
     "data": {
      "text/plain": [
       "[<td>2023 (TTM)</td>,\n",
       " <td>$5.81 B</td>,\n",
       " <td class=\"percentage-red\">-2.37%</td>,\n",
       " <td>2022</td>,\n",
       " <td>$5.95 B</td>,\n",
       " <td class=\"percentage-green\">1.29%</td>,\n",
       " <td>2021</td>,\n",
       " <td>$5.87 B</td>,\n",
       " <td class=\"percentage-green\">13.89%</td>,\n",
       " <td>2020</td>,\n",
       " <td>$5.16 B</td>,\n",
       " <td class=\"percentage-red\">-29.63%</td>,\n",
       " <td>2019</td>,\n",
       " <td>$7.33 B</td>,\n",
       " <td class=\"percentage-red\">-19.99%</td>,\n",
       " <td>2018</td>,\n",
       " <td>$9.16 B</td>,\n",
       " <td class=\"percentage-green\">4.56%</td>,\n",
       " <td>2017</td>,\n",
       " <td>$8.76 B</td>,\n",
       " <td class=\"percentage-red\">-3.52%</td>,\n",
       " <td>2016</td>,\n",
       " <td>$9.08 B</td>,\n",
       " <td class=\"percentage-red\">-2.44%</td>,\n",
       " <td>2015</td>,\n",
       " <td>$9.31 B</td>,\n",
       " <td class=\"percentage-red\">-1.99%</td>,\n",
       " <td>2014</td>,\n",
       " <td>$9.50 B</td>,\n",
       " <td class=\"percentage-green\">6.58%</td>,\n",
       " <td>2013</td>,\n",
       " <td>$8.91 B</td>,\n",
       " <td class=\"percentage-green\">0.15%</td>,\n",
       " <td>2012</td>,\n",
       " <td>$8.90 B</td>,\n",
       " <td class=\"percentage-red\">-7.87%</td>,\n",
       " <td>2011</td>,\n",
       " <td>$9.66 B</td>,\n",
       " <td class=\"percentage-green\">3.87%</td>,\n",
       " <td>2010</td>,\n",
       " <td>$9.30 B</td>,\n",
       " <td class=\"percentage-green\">2.86%</td>,\n",
       " <td>2009</td>,\n",
       " <td>$9.04 B</td>,\n",
       " <td class=\"percentage-green\">10.6%</td>,\n",
       " <td>2008</td>,\n",
       " <td>$8.17 B</td>,\n",
       " <td class=\"percentage-green\">25.21%</td>,\n",
       " <td>2007</td>,\n",
       " <td>$6.53 B</td>,\n",
       " <td class=\"percentage-green\">39.52%</td>,\n",
       " <td>2006</td>,\n",
       " <td>$4.68 B</td>,\n",
       " <td class=\"percentage-green\">119.43%</td>,\n",
       " <td>2005</td>,\n",
       " <td>$2.13 B</td>,\n",
       " <td class=\"percentage-green\">21.27%</td>,\n",
       " <td>2004</td>,\n",
       " <td>$1.75 B</td>,\n",
       " <td class=\"percentage-green\">19.38%</td>,\n",
       " <td>2003</td>,\n",
       " <td>$1.47 B</td>,\n",
       " <td class=\"percentage-green\">9.45%</td>,\n",
       " <td>2002</td>,\n",
       " <td>$1.34 B</td>,\n",
       " <td></td>,\n",
       " <td class=\"name-td\"><a href=\"/best-buy/revenue/\"><div class=\"float-left pt-1\"><img alt=\"Best Buy logo\" class=\"company-logo\" loading=\"lazy\" src=\"/img/company-logos/64/BBY.png\"/></div><div class=\"name-div\"><div class=\"company-name\">Best Buy</div><div class=\"company-code\"><span class=\"rank d-none\"></span>BBY</div></div></a></td>,\n",
       " <td>$44.37 B</td>,\n",
       " <td><span class=\"percentage-green\"> 663.23%</span></td>,\n",
       " <td>🇺🇸 <span class=\"responsive-hidden\">USA</span></td>,\n",
       " <td class=\"name-td\"><a href=\"/amc-entertainment/revenue/\"><div class=\"float-left pt-1\"><img alt=\"AMC Entertainment logo\" class=\"company-logo\" loading=\"lazy\" src=\"/img/company-logos/64/AMC.png\"/></div><div class=\"name-div\"><div class=\"company-name\">AMC Entertainment</div><div class=\"company-code\"><span class=\"rank d-none\"></span>AMC</div></div></a></td>,\n",
       " <td>$4.26 B</td>,\n",
       " <td><span class=\"percentage-red\">-26.70%</span></td>,\n",
       " <td>🇺🇸 <span class=\"responsive-hidden\">USA</span></td>]"
      ]
     },
     "execution_count": 217,
     "metadata": {},
     "output_type": "execute_result"
    }
   ],
   "source": [
    "GameStop_Revenue_Data_website = 'https://companiesmarketcap.com/gamestop/revenue/'\n",
    "\n",
    "page_imported_GameStop = requests.get(GameStop_Revenue_Data_website)\n",
    "src_GameStop = page_imported_GameStop.content\n",
    "soup_GameStop = BeautifulSoup(src_GameStop, \"lxml\")\n",
    "\n",
    "Tesla_Revenue_Data_table = soup_GameStop.find_all(\"td\")\n",
    "Tesla_Revenue_Data_table"
   ]
  },
  {
   "cell_type": "raw",
   "id": "f74929f5",
   "metadata": {},
   "source": []
  },
  {
   "cell_type": "markdown",
   "id": "82e616af",
   "metadata": {},
   "source": [
    "*Question 5 - Tesla Stock and Revenue Dashboard*\n",
    "<br>answer 5 -  **fist i reformated date colmun to new format date \"yyyy-mmm\", then I create new datefarme based on the main one, the new datafarme is grouped by new colmun**"
   ]
  },
  {
   "cell_type": "code",
   "execution_count": 263,
   "id": "f2bfa7df",
   "metadata": {
    "scrolled": false
   },
   "outputs": [
    {
     "data": {
      "text/plain": [
       "0       2023 - Nov\n",
       "1       2023 - Nov\n",
       "2       2023 - Nov\n",
       "3       2023 - Nov\n",
       "4       2023 - Nov\n",
       "           ...    \n",
       "3363    2010 - Jul\n",
       "3364    2010 - Jul\n",
       "3365    2010 - Jul\n",
       "3366    2010 - Jun\n",
       "3367    2010 - Jun\n",
       "Name: date: mm-yyyy, Length: 3368, dtype: object"
      ]
     },
     "execution_count": 263,
     "metadata": {},
     "output_type": "execute_result"
    }
   ],
   "source": [
    "df_TSLA['date'] = pd.to_datetime(df_TSLA['date'])\n",
    "df_TSLA['date: mm-yyyy'] = df_TSLA['date'].dt.strftime('%Y - %b')\n",
    "df_TSLA['date: mm-yyyy']"
   ]
  },
  {
   "cell_type": "code",
   "execution_count": 293,
   "id": "04603500",
   "metadata": {},
   "outputs": [
    {
     "data": {
      "text/html": [
       "<div>\n",
       "<style scoped>\n",
       "    .dataframe tbody tr th:only-of-type {\n",
       "        vertical-align: middle;\n",
       "    }\n",
       "\n",
       "    .dataframe tbody tr th {\n",
       "        vertical-align: top;\n",
       "    }\n",
       "\n",
       "    .dataframe thead th {\n",
       "        text-align: right;\n",
       "    }\n",
       "</style>\n",
       "<table border=\"1\" class=\"dataframe\">\n",
       "  <thead>\n",
       "    <tr style=\"text-align: right;\">\n",
       "      <th></th>\n",
       "      <th>date: mm-yyyy</th>\n",
       "      <th>volume</th>\n",
       "    </tr>\n",
       "  </thead>\n",
       "  <tbody>\n",
       "    <tr>\n",
       "      <th>0</th>\n",
       "      <td>2010 - Aug</td>\n",
       "      <td>225755190</td>\n",
       "    </tr>\n",
       "    <tr>\n",
       "      <th>1</th>\n",
       "      <td>2010 - Dec</td>\n",
       "      <td>552879435</td>\n",
       "    </tr>\n",
       "    <tr>\n",
       "      <th>2</th>\n",
       "      <td>2010 - Jul</td>\n",
       "      <td>969508185</td>\n",
       "    </tr>\n",
       "    <tr>\n",
       "      <th>3</th>\n",
       "      <td>2010 - Jun</td>\n",
       "      <td>539665050</td>\n",
       "    </tr>\n",
       "    <tr>\n",
       "      <th>4</th>\n",
       "      <td>2010 - Nov</td>\n",
       "      <td>424840845</td>\n",
       "    </tr>\n",
       "    <tr>\n",
       "      <th>5</th>\n",
       "      <td>2010 - Oct</td>\n",
       "      <td>98107605</td>\n",
       "    </tr>\n",
       "    <tr>\n",
       "      <th>6</th>\n",
       "      <td>2010 - Sep</td>\n",
       "      <td>270733680</td>\n",
       "    </tr>\n",
       "    <tr>\n",
       "      <th>7</th>\n",
       "      <td>2011 - Apr</td>\n",
       "      <td>448748100</td>\n",
       "    </tr>\n",
       "    <tr>\n",
       "      <th>8</th>\n",
       "      <td>2011 - Aug</td>\n",
       "      <td>408345225</td>\n",
       "    </tr>\n",
       "    <tr>\n",
       "      <th>9</th>\n",
       "      <td>2011 - Dec</td>\n",
       "      <td>316928700</td>\n",
       "    </tr>\n",
       "  </tbody>\n",
       "</table>\n",
       "</div>"
      ],
      "text/plain": [
       "  date: mm-yyyy     volume\n",
       "0    2010 - Aug  225755190\n",
       "1    2010 - Dec  552879435\n",
       "2    2010 - Jul  969508185\n",
       "3    2010 - Jun  539665050\n",
       "4    2010 - Nov  424840845\n",
       "5    2010 - Oct   98107605\n",
       "6    2010 - Sep  270733680\n",
       "7    2011 - Apr  448748100\n",
       "8    2011 - Aug  408345225\n",
       "9    2011 - Dec  316928700"
      ]
     },
     "execution_count": 293,
     "metadata": {},
     "output_type": "execute_result"
    }
   ],
   "source": [
    "df_TSLA_grouped = df_TSLA.groupby('date: mm-yyyy')['volume'].sum().reset_index()\n",
    "df_TSLA_grouped.head(10)"
   ]
  },
  {
   "cell_type": "code",
   "execution_count": 294,
   "id": "434c78bb",
   "metadata": {},
   "outputs": [
    {
     "data": {
      "text/plain": [
       "<Axes: xlabel='date: mm-yyyy'>"
      ]
     },
     "execution_count": 294,
     "metadata": {},
     "output_type": "execute_result"
    },
    {
     "data": {
      "image/png": "[encoded data removed]",
      "text/plain": [
       "<Figure size 640x480 with 1 Axes>"
      ]
     },
     "metadata": {},
     "output_type": "display_data"
    }
   ],
   "source": [
    "df_TSLA_grouped.plot(kind=\"bar\", x='date: mm-yyyy', y='volume', stacked=True)"
   ]
  },
  {
   "cell_type": "markdown",
   "id": "74dcb4a3",
   "metadata": {},
   "source": [
    "*Question 6 - GameStop Stock and Revenue Dashboard*\n",
    "<br>answer 6 -  **fist i reformated date colmun to new format date \"yyyy-mmm\", then I create new datefarme based on the main one, the new datafarme is grouped by new colmun**"
   ]
  },
  {
   "cell_type": "code",
   "execution_count": 295,
   "id": "c57006d0",
   "metadata": {
    "scrolled": true
   },
   "outputs": [
    {
     "data": {
      "text/html": [
       "<div>\n",
       "<style scoped>\n",
       "    .dataframe tbody tr th:only-of-type {\n",
       "        vertical-align: middle;\n",
       "    }\n",
       "\n",
       "    .dataframe tbody tr th {\n",
       "        vertical-align: top;\n",
       "    }\n",
       "\n",
       "    .dataframe thead th {\n",
       "        text-align: right;\n",
       "    }\n",
       "</style>\n",
       "<table border=\"1\" class=\"dataframe\">\n",
       "  <thead>\n",
       "    <tr style=\"text-align: right;\">\n",
       "      <th></th>\n",
       "      <th>date</th>\n",
       "      <th>open</th>\n",
       "      <th>high</th>\n",
       "      <th>low</th>\n",
       "      <th>close</th>\n",
       "      <th>volume</th>\n",
       "      <th>standardDeviation</th>\n",
       "    </tr>\n",
       "  </thead>\n",
       "  <tbody>\n",
       "    <tr>\n",
       "      <th>0</th>\n",
       "      <td>2023-11-10 00:00:00</td>\n",
       "      <td>12.81</td>\n",
       "      <td>12.9700</td>\n",
       "      <td>12.350</td>\n",
       "      <td>12.54</td>\n",
       "      <td>3875692</td>\n",
       "      <td>3.557657</td>\n",
       "    </tr>\n",
       "    <tr>\n",
       "      <th>1</th>\n",
       "      <td>2023-11-09 00:00:00</td>\n",
       "      <td>13.25</td>\n",
       "      <td>13.3229</td>\n",
       "      <td>12.700</td>\n",
       "      <td>12.70</td>\n",
       "      <td>2750115</td>\n",
       "      <td>3.516784</td>\n",
       "    </tr>\n",
       "    <tr>\n",
       "      <th>2</th>\n",
       "      <td>2023-11-08 00:00:00</td>\n",
       "      <td>13.51</td>\n",
       "      <td>13.7600</td>\n",
       "      <td>13.280</td>\n",
       "      <td>13.28</td>\n",
       "      <td>1705621</td>\n",
       "      <td>3.476857</td>\n",
       "    </tr>\n",
       "    <tr>\n",
       "      <th>3</th>\n",
       "      <td>2023-11-07 00:00:00</td>\n",
       "      <td>13.47</td>\n",
       "      <td>13.7900</td>\n",
       "      <td>13.230</td>\n",
       "      <td>13.64</td>\n",
       "      <td>2354364</td>\n",
       "      <td>3.442694</td>\n",
       "    </tr>\n",
       "    <tr>\n",
       "      <th>4</th>\n",
       "      <td>2023-11-06 00:00:00</td>\n",
       "      <td>13.99</td>\n",
       "      <td>14.0450</td>\n",
       "      <td>13.485</td>\n",
       "      <td>13.53</td>\n",
       "      <td>2164399</td>\n",
       "      <td>3.411648</td>\n",
       "    </tr>\n",
       "  </tbody>\n",
       "</table>\n",
       "</div>"
      ],
      "text/plain": [
       "                  date   open     high     low  close   volume  \\\n",
       "0  2023-11-10 00:00:00  12.81  12.9700  12.350  12.54  3875692   \n",
       "1  2023-11-09 00:00:00  13.25  13.3229  12.700  12.70  2750115   \n",
       "2  2023-11-08 00:00:00  13.51  13.7600  13.280  13.28  1705621   \n",
       "3  2023-11-07 00:00:00  13.47  13.7900  13.230  13.64  2354364   \n",
       "4  2023-11-06 00:00:00  13.99  14.0450  13.485  13.53  2164399   \n",
       "\n",
       "   standardDeviation  \n",
       "0           3.557657  \n",
       "1           3.516784  \n",
       "2           3.476857  \n",
       "3           3.442694  \n",
       "4           3.411648  "
      ]
     },
     "execution_count": 295,
     "metadata": {},
     "output_type": "execute_result"
    }
   ],
   "source": [
    "df_GME.head(5)"
   ]
  },
  {
   "cell_type": "code",
   "execution_count": 317,
   "id": "0fe4fa12",
   "metadata": {},
   "outputs": [
    {
     "data": {
      "text/plain": [
       "0       2023 - Nov\n",
       "1       2023 - Nov\n",
       "2       2023 - Nov\n",
       "3       2023 - Nov\n",
       "4       2023 - Nov\n",
       "           ...    \n",
       "5074    2003 - Sep\n",
       "5075    2003 - Sep\n",
       "5076    2003 - Sep\n",
       "5077    2003 - Sep\n",
       "5078    2003 - Sep\n",
       "Name: date: mm-yyyy, Length: 5079, dtype: object"
      ]
     },
     "execution_count": 317,
     "metadata": {},
     "output_type": "execute_result"
    }
   ],
   "source": [
    "df_GME['date'] = pd.to_datetime(df_GME['date'])\n",
    "df_GME['date: mm-yyyy'] = df_GME['date'].dt.strftime('%Y - %b')\n",
    "df_GME['date: mm-yyyy']"
   ]
  },
  {
   "cell_type": "code",
   "execution_count": 323,
   "id": "21d513cb",
   "metadata": {},
   "outputs": [
    {
     "data": {
      "text/html": [
       "<div>\n",
       "<style scoped>\n",
       "    .dataframe tbody tr th:only-of-type {\n",
       "        vertical-align: middle;\n",
       "    }\n",
       "\n",
       "    .dataframe tbody tr th {\n",
       "        vertical-align: top;\n",
       "    }\n",
       "\n",
       "    .dataframe thead th {\n",
       "        text-align: right;\n",
       "    }\n",
       "</style>\n",
       "<table border=\"1\" class=\"dataframe\">\n",
       "  <thead>\n",
       "    <tr style=\"text-align: right;\">\n",
       "      <th></th>\n",
       "      <th>date: mm-yyyy</th>\n",
       "      <th>volume</th>\n",
       "    </tr>\n",
       "  </thead>\n",
       "  <tbody>\n",
       "    <tr>\n",
       "      <th>0</th>\n",
       "      <td>2003 - Dec</td>\n",
       "      <td>49924000</td>\n",
       "    </tr>\n",
       "    <tr>\n",
       "      <th>1</th>\n",
       "      <td>2003 - Nov</td>\n",
       "      <td>63319960</td>\n",
       "    </tr>\n",
       "    <tr>\n",
       "      <th>2</th>\n",
       "      <td>2003 - Oct</td>\n",
       "      <td>52077600</td>\n",
       "    </tr>\n",
       "    <tr>\n",
       "      <th>3</th>\n",
       "      <td>2003 - Sep</td>\n",
       "      <td>45274400</td>\n",
       "    </tr>\n",
       "    <tr>\n",
       "      <th>4</th>\n",
       "      <td>2004 - Apr</td>\n",
       "      <td>22871200</td>\n",
       "    </tr>\n",
       "    <tr>\n",
       "      <th>...</th>\n",
       "      <td>...</td>\n",
       "      <td>...</td>\n",
       "    </tr>\n",
       "    <tr>\n",
       "      <th>238</th>\n",
       "      <td>2023 - Mar</td>\n",
       "      <td>171930160</td>\n",
       "    </tr>\n",
       "    <tr>\n",
       "      <th>239</th>\n",
       "      <td>2023 - May</td>\n",
       "      <td>64058135</td>\n",
       "    </tr>\n",
       "    <tr>\n",
       "      <th>240</th>\n",
       "      <td>2023 - Nov</td>\n",
       "      <td>22813151</td>\n",
       "    </tr>\n",
       "    <tr>\n",
       "      <th>241</th>\n",
       "      <td>2023 - Oct</td>\n",
       "      <td>71829219</td>\n",
       "    </tr>\n",
       "    <tr>\n",
       "      <th>242</th>\n",
       "      <td>2023 - Sep</td>\n",
       "      <td>73568340</td>\n",
       "    </tr>\n",
       "  </tbody>\n",
       "</table>\n",
       "<p>243 rows × 2 columns</p>\n",
       "</div>"
      ],
      "text/plain": [
       "    date: mm-yyyy     volume\n",
       "0      2003 - Dec   49924000\n",
       "1      2003 - Nov   63319960\n",
       "2      2003 - Oct   52077600\n",
       "3      2003 - Sep   45274400\n",
       "4      2004 - Apr   22871200\n",
       "..            ...        ...\n",
       "238    2023 - Mar  171930160\n",
       "239    2023 - May   64058135\n",
       "240    2023 - Nov   22813151\n",
       "241    2023 - Oct   71829219\n",
       "242    2023 - Sep   73568340\n",
       "\n",
       "[243 rows x 2 columns]"
      ]
     },
     "execution_count": 323,
     "metadata": {},
     "output_type": "execute_result"
    }
   ],
   "source": [
    "df_GME_grouped = df_GME.groupby('date: mm-yyyy')['volume'].sum().reset_index()\n",
    "df_GME_grouped"
   ]
  },
  {
   "cell_type": "code",
   "execution_count": 326,
   "id": "e43ee08f",
   "metadata": {},
   "outputs": [
    {
     "data": {
      "text/plain": [
       "<Axes: xlabel='date: mm-yyyy'>"
      ]
     },
     "execution_count": 326,
     "metadata": {},
     "output_type": "execute_result"
    },
    {
     "data": {
      "image/png": "[encoded data removed]",
      "text/plain": [
       "<Figure size 640x480 with 1 Axes>"
      ]
     },
     "metadata": {},
     "output_type": "display_data"
    }
   ],
   "source": [
    "df_GME_grouped.plot(kind=\"bar\", x='date: mm-yyyy', y='volume', stacked=True)"
   ]
  },
  {
   "cell_type": "code",
   "execution_count": null,
   "id": "f1484221",
   "metadata": {},
   "outputs": [],
   "source": []
  },
  {
   "cell_type": "markdown",
   "id": "f7c382d7",
   "metadata": {},
   "source": [
    "*Question 7 - Sharing your Assignment Notebook*\n",
    "<br>answer 7 -  **Done**"
   ]
  },
  {
   "cell_type": "code",
   "execution_count": null,
   "id": "245027f7",
   "metadata": {},
   "outputs": [],
   "source": []
  }
 ],
 "metadata": {
  "kernelspec": {
   "display_name": "Python 3 (ipykernel)",
   "language": "python",
   "name": "python3"
  },
  "language_info": {
   "codemirror_mode": {
    "name": "ipython",
    "version": 3
   },
   "file_extension": ".py",
   "mimetype": "text/x-python",
   "name": "python",
   "nbconvert_exporter": "python",
   "pygments_lexer": "ipython3",
   "version": "3.11.5"
  }
 },
 "nbformat": 4,
 "nbformat_minor": 5
}
